{
 "cells": [
  {
   "cell_type": "markdown",
   "metadata": {
    "collapsed": true,
    "pycharm": {
     "name": "#%% md\n"
    }
   },
   "source": [
    "# 机器学习"
   ]
  },
  {
   "cell_type": "markdown",
   "source": [
    "## 决策树"
   ],
   "metadata": {
    "collapsed": false,
    "pycharm": {
     "name": "#%% md\n"
    }
   }
  },
  {
   "cell_type": "markdown",
   "source": [
    "![标签类别对照](./img.png)"
   ],
   "metadata": {
    "collapsed": false
   }
  },
  {
   "cell_type": "markdown",
   "source": [
    "![香农熵公式](./img_1.png)"
   ],
   "metadata": {
    "collapsed": false
   }
  },
  {
   "cell_type": "markdown",
   "source": [
    "```python\n",
    "\n",
    "\n",
    "```"
   ],
   "metadata": {
    "collapsed": false
   }
  },
  {
   "cell_type": "code",
   "execution_count": 8,
   "outputs": [
    {
     "name": "stdout",
     "output_type": "stream",
     "text": [
      "第0个特征的增益为0.083\n",
      "第1个特征的增益为0.324\n",
      "第2个特征的增益为0.420\n",
      "第3个特征的增益为0.363\n",
      "最优特征索引：2\n",
      "第0个特征的增益为0.083\n",
      "第1个特征的增益为0.324\n",
      "第2个特征的增益为0.420\n",
      "第3个特征的增益为0.363\n",
      "第0个特征的增益为0.252\n",
      "第1个特征的增益为0.918\n",
      "第2个特征的增益为0.474\n",
      "{'有自己的房子': {0: {'有工作': {0: 'no', 1: 'yes'}}, 1: 'yes'}}\n"
     ]
    }
   ],
   "source": [
    "from math import *\n",
    "import operator\n",
    "\n",
    "\n",
    "# jupyterNotebook模式下Debugger disconnected就是程序有Exception  无法在Exception处中断\n",
    "def createDataSet():\n",
    "    dataSet = [[0, 0, 0, 0, 'no'],  #数据集创建\n",
    "               [0, 0, 0, 1, 'no'],\n",
    "               [0, 1, 0, 1, 'yes'],\n",
    "               [0, 1, 1, 0, 'yes'],\n",
    "               [0, 0, 0, 0, 'no'],\n",
    "               [1, 0, 0, 0, 'no'],\n",
    "               [1, 0, 0, 1, 'no'],\n",
    "               [1, 1, 1, 1, 'yes'],\n",
    "               [1, 0, 1, 2, 'yes'],\n",
    "               [1, 0, 1, 2, 'yes'],\n",
    "               [2, 0, 1, 2, 'yes'],\n",
    "               [2, 0, 1, 1, 'yes'],\n",
    "               [2, 1, 0, 1, 'yes'],\n",
    "               [2, 1, 0, 2, 'yes'],\n",
    "               [2, 0, 0, 0, 'no']]\n",
    "    labels = ['年龄', '有工作', '有自己的房子', '信贷情况']  #分类属性\n",
    "    return dataSet, labels  #返回数据集和分类属性\n",
    "\n",
    "\n",
    "# 求香农熵\n",
    "def findentropy(dataset):\n",
    "    featuredict = {}\n",
    "    for data in dataset:\n",
    "        if data[-1] not in featuredict:  # in for都是在字典键中遍历\n",
    "            featuredict[data[-1]] = 1\n",
    "        else:\n",
    "            featuredict[data[-1]] += 1\n",
    "    entropy = 0\n",
    "    for feature in featuredict:\n",
    "        rate = featuredict[feature] / len(dataset)\n",
    "        entropy -= rate * log(rate, 2)\n",
    "    return entropy\n",
    "\n",
    "\n",
    "\"\"\"\n",
    "函数说明:按照给定特征划分数据集\n",
    "\n",
    "Parameters:\n",
    "    dataSet - 待划分的数据集\n",
    "    axis - 划分数据集的特征\n",
    "    value - 需要返回的特征的值\n",
    "Returns:\n",
    "    无\n",
    "Author:\n",
    "    Jack Cui\n",
    "Modify:\n",
    "    2017-03-30\n",
    "\"\"\"\n",
    "\n",
    "\n",
    "# 子集  即条件经验熵种的“条件”\n",
    "def splitDataSet(dataSet, axis, value):  # axis代表用哪个特征，value代表该特征对应的某一类别，比如年龄axis = 0，老年 value = 1\n",
    "    retDataSet = []  #创建返回的数据集列表\n",
    "    for featVec in dataSet:  #遍历数据集\n",
    "        if featVec[axis] == value:\n",
    "            reducedFeatVec = featVec[:axis]  #去掉axis特征    ⭐（为后续递归建树做准备，剔除已经用过的特征）\n",
    "            reducedFeatVec.extend(featVec[axis + 1:])  #将符合条件的添加到返回的数据集\n",
    "            retDataSet.append(reducedFeatVec)\n",
    "    return retDataSet  #返回划分后的数据集\n",
    "\n",
    "\n",
    "\"\"\"\n",
    "函数说明:选择最优特征\n",
    "\n",
    "Parameters:\n",
    "    dataSet - 数据集\n",
    "Returns:\n",
    "    bestFeature - 信息增益最大的(最优)特征的索引值\n",
    "Author:\n",
    "    Jack Cui\n",
    "Modify:\n",
    "    2017-03-30\n",
    "\"\"\"\n",
    "\n",
    "\n",
    "def chooseBestFeatureToSplit(dataSet):\n",
    "    numFeatures = len(dataSet[0]) - 1  #特征数量   排除最后一个分类结果\n",
    "    baseEntropy = findentropy(dataSet)  #计算数据集的香农熵\n",
    "    bestInfoGain = 0.0  #信息增益\n",
    "    bestFeature = -1  #最优特征的索引值\n",
    "    for i in range(numFeatures):  #遍历所有特征\n",
    "        #获取dataSet的第i个所有特征\n",
    "        featList = [example[i] for example in dataSet]\n",
    "        uniqueVals = set(featList)  #创建set集合{},元素不可重复\n",
    "        newEntropy = 0.0  #经验条件熵\n",
    "        for value in uniqueVals:  #计算信息增益\n",
    "            subDataSet = splitDataSet(dataSet, i, value)  #subDataSet划分后的子集\n",
    "            prob = len(subDataSet) / float(len(dataSet))  #计算子集的概率\n",
    "            newEntropy += prob * findentropy(subDataSet)  #根据公式计算经验条件熵\n",
    "        infoGain = baseEntropy - newEntropy  #信息增益\n",
    "        print(\"第%d个特征的增益为%.3f\" % (i, infoGain))  #打印每个特征的信息增益\n",
    "        if (infoGain > bestInfoGain):  #计算信息增益\n",
    "            bestInfoGain = infoGain  #更新信息增益，找到最大的信息增益\n",
    "            bestFeature = i  #记录信息增益最大的特征的索引值\n",
    "    return bestFeature  #返回信息增益最大的特征的索引值\n",
    "\n",
    "\n",
    "# def setuptree(dataset):\n",
    "#     if len(dataset[0]) == 1:   # 递归返回 仅剩最终类别\n",
    "#         return\n",
    "#     bestfeature = chooseBestFeatureToSplit(dataset)\n",
    "#     featureclass = [data[bestfeature] for data in dataset]   # bestfeature特征的所有类别\n",
    "#     featureclass = list(set(featureclass))  # 去重\n",
    "#     for i in featureclass:\n",
    "#         subdataset = splitDataSet(dataSet=dataset, axis=chooseBestFeatureToSplit(dataset), value=i)\n",
    "#         setuptree(subdataset)\n",
    "\n",
    "\"\"\"\n",
    "函数说明:统计classList中出现此处最多的元素(类标签)\n",
    "\n",
    "Parameters:\n",
    "    classList - 类标签列表\n",
    "Returns:\n",
    "    sortedClassCount[0][0] - 出现此处最多的元素(类标签)\n",
    "Author:\n",
    "    Jack Cui\n",
    "Blog:\n",
    "    http://blog.csdn.net/c406495762\n",
    "Modify:\n",
    "    2017-07-24\n",
    "\"\"\"\n",
    "\n",
    "\n",
    "def majorityCnt(classList):\n",
    "    classCount = {}\n",
    "    for vote in classList:  #统计classList中每个元素出现的次数\n",
    "        if vote not in classCount.keys():\n",
    "            classCount[vote] = 0\n",
    "        classCount[vote] += 1  # lambda x: x[1]\n",
    "    sortedClassCount = sorted(classCount.items(), key=operator.itemgetter(1), reverse=True)  #根据字典的值降序排序\n",
    "    return sortedClassCount[0][0]  #返回classList中出现次数最多的元素\n",
    "\n",
    "\n",
    "\"\"\"\n",
    "函数说明:创建决策树\n",
    "\n",
    "Parameters:\n",
    "    dataSet - 训练数据集\n",
    "    labels - 分类属性标签\n",
    "    featLabels - 存储选择的最优特征标签\n",
    "Returns:\n",
    "    myTree - 决策树\n",
    "Author:\n",
    "    Jack Cui\n",
    "Blog:\n",
    "    http://blog.csdn.net/c406495762\n",
    "Modify:\n",
    "    2017-07-25\n",
    "\"\"\"\n",
    "\n",
    "\n",
    "def createTree(dataSet, labels, featLabels):\n",
    "    classList = [example[-1] for example in dataSet]  #取分类标签(是否放贷:yes or no)\n",
    "    if classList.count(classList[0]) == len(classList):  #如果类别完全相同则停止继续划分\n",
    "        return classList[0]\n",
    "    if len(dataSet[0]) == 1 or len(labels) == 0:  #遍历完所有特征时返回出现次数最多的类标签\n",
    "        return majorityCnt(classList)\n",
    "    bestFeat = chooseBestFeatureToSplit(dataSet)  #选择最优特征\n",
    "    bestFeatLabel = labels[bestFeat]  #最优特征的标签\n",
    "    featLabels.append(bestFeatLabel)\n",
    "    myTree = {bestFeatLabel: {}}  #根据最优特征的标签生成树\n",
    "    del (labels[bestFeat])  #删除已经使用特征【标签】\n",
    "    featValues = [example[bestFeat] for example in dataSet]  #得到训练集中所有最优特征的属性值\n",
    "    uniqueVals = set(featValues)  #去掉重复的属性值\n",
    "    for value in uniqueVals:  #遍历特征，创建决策树。\n",
    "        subLabels = labels[:]\n",
    "        myTree[bestFeatLabel][value] = createTree(splitDataSet(dataSet, bestFeat, value), subLabels, featLabels)\n",
    "    return myTree   # 未达到终止条件时返回储存新枝干的字典\n",
    "\n",
    "\n",
    "if __name__ == '__main__':\n",
    "    decisiontree = {}\n",
    "    dataset, labels = createDataSet()\n",
    "    print(f'最优特征索引：{chooseBestFeatureToSplit(dataset)}')\n",
    "    featlabels = []\n",
    "    tree = createTree(dataset, labels, featlabels)\n",
    "    print(tree)\n"
   ],
   "metadata": {
    "collapsed": false,
    "pycharm": {
     "name": "#%%\n"
    }
   }
  }
 ],
 "metadata": {
  "kernelspec": {
   "display_name": "Python 3",
   "language": "python",
   "name": "python3"
  },
  "language_info": {
   "codemirror_mode": {
    "name": "ipython",
    "version": 2
   },
   "file_extension": ".py",
   "mimetype": "text/x-python",
   "name": "python",
   "nbconvert_exporter": "python",
   "pygments_lexer": "ipython2",
   "version": "2.7.6"
  }
 },
 "nbformat": 4,
 "nbformat_minor": 0
}